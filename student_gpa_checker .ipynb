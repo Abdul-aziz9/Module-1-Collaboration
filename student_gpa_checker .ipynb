{
 "cells": [
  {
   "cell_type": "code",
   "execution_count": 1,
   "id": "b3f17b20",
   "metadata": {},
   "outputs": [
    {
     "name": "stdout",
     "output_type": "stream",
     "text": [
      "Enter the student's last name (or 'ZZZ' to quit): Az\n",
      "Enter the student's first name: ZZ\n",
      "Enter the student's GPA: 3.9\n",
      "ZZ Az has made the Dean's List.\n",
      "Enter the student's last name (or 'ZZZ' to quit): Aziz\n",
      "Enter the student's first name: Abdul\n",
      "Enter the student's GPA: 3.85\n",
      "Abdul Aziz has made the Dean's List.\n",
      "Enter the student's last name (or 'ZZZ' to quit): Abdul \n",
      "Enter the student's first name: Vic\n",
      "Enter the student's GPA: 3.99\n",
      "Vic Abdul  has made the Dean's List.\n",
      "Enter the student's last name (or 'ZZZ' to quit): unul\n",
      "Enter the student's first name: liam\n",
      "Enter the student's GPA: 3.40\n",
      "liam unul has made the Honor Roll.\n",
      "Enter the student's last name (or 'ZZZ' to quit): soft\n",
      "Enter the student's first name: byy\n",
      "Enter the student's GPA: 4.0\n",
      "byy soft has made the Dean's List.\n",
      "Enter the student's last name (or 'ZZZ' to quit): ZZZ\n",
      "Exiting the program. Goodbye!\n"
     ]
    }
   ],
   "source": [
    "# Author: AbdulAziz Oshinberu\n",
    "# File Name: student_gpa_checker.py\n",
    "# Description: This app accepts student names and GPAs, and determines if they qualify for the Dean's List or Honor Roll.\n",
    "\n",
    "while True:\n",
    "    # Ask for the student's last name\n",
    "    last_name = input(\"Enter the student's last name (or 'ZZZ' to quit): \")\n",
    "    \n",
    "    # Check if the user wants to quit\n",
    "    if last_name.upper() == 'ZZZ':\n",
    "        print(\"Exiting the program. Goodbye!\")\n",
    "        break\n",
    "\n",
    "    # Ask for the student's first name\n",
    "    first_name = input(\"Enter the student's first name: \")\n",
    "\n",
    "    # Ask for the student's GPA\n",
    "    try:\n",
    "        gpa = float(input(\"Enter the student's GPA: \"))\n",
    "    except ValueError:\n",
    "        print(\"Invalid input. Please enter a valid GPA as a number.\")\n",
    "        continue\n",
    "\n",
    "    # Check qualifications\n",
    "    if gpa >= 3.5:\n",
    "        print(f\"{first_name} {last_name} has made the Dean's List.\")\n",
    "    elif gpa >= 3.25:\n",
    "        print(f\"{first_name} {last_name} has made the Honor Roll.\")\n",
    "    else:\n",
    "        print(f\"{first_name} {last_name} does not qualify for the Dean's List or Honor Roll.\")\n"
   ]
  },
  {
   "cell_type": "code",
   "execution_count": null,
   "id": "4eed1d3f",
   "metadata": {},
   "outputs": [],
   "source": []
  }
 ],
 "metadata": {
  "kernelspec": {
   "display_name": "Python 3 (ipykernel)",
   "language": "python",
   "name": "python3"
  },
  "language_info": {
   "codemirror_mode": {
    "name": "ipython",
    "version": 3
   },
   "file_extension": ".py",
   "mimetype": "text/x-python",
   "name": "python",
   "nbconvert_exporter": "python",
   "pygments_lexer": "ipython3",
   "version": "3.9.12"
  }
 },
 "nbformat": 4,
 "nbformat_minor": 5
}
