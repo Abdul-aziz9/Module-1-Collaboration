{
 "cells": [
  {
   "cell_type": "code",
   "execution_count": 3,
   "id": "e123c144",
   "metadata": {},
   "outputs": [],
   "source": [
    "class Solution:\n",
    "   \n",
    "    def sort012(self, arr):\n",
    "        # code here\n",
    "        low = 0\n",
    "        mid = 0\n",
    "        high = len(arr) - 1\n",
    "        \n",
    "        \n",
    "        while mid <= high:\n",
    "            if arr[mid] == 0:\n",
    "                arr[low], arr[mid] = arr[mid], arr[low]\n",
    "                low += 1\n",
    "                mid += 1\n",
    "            elif arr[mid] == 1:\n",
    "                mid += 1\n",
    "            else:\n",
    "                arr[high], arr[mid] = arr[mid], arr[high]\n",
    "                high -= 1\n"
   ]
  },
  {
   "cell_type": "code",
   "execution_count": 4,
   "id": "739b2043",
   "metadata": {},
   "outputs": [],
   "source": [
    "class Solution:\n",
    "    def binarysearch(self, arr, k):\n",
    "        # Code Here\n",
    "        low = 0\n",
    "        high = len(arr) - 1\n",
    "        result = -1 \n",
    "        \n",
    "        is_equal = lambda mid: arr[mid] == k\n",
    "        \n",
    "        while low <= high:\n",
    "            mid = low + (high - low) // 2\n",
    "            \n",
    "            if is_equal(mid):  \n",
    "                result = mid \n",
    "                high = mid - 1  \n",
    "            elif arr[mid] < k:\n",
    "                low = mid + 1  \n",
    "            else:\n",
    "                high = mid - 1  \n",
    "    \n",
    "        return result"
   ]
  },
  {
   "cell_type": "code",
   "execution_count": null,
   "id": "be96f3ec",
   "metadata": {},
   "outputs": [],
   "source": []
  },
  {
   "cell_type": "code",
   "execution_count": null,
   "id": "9248dad8",
   "metadata": {},
   "outputs": [],
   "source": []
  }
 ],
 "metadata": {
  "kernelspec": {
   "display_name": "Python 3 (ipykernel)",
   "language": "python",
   "name": "python3"
  },
  "language_info": {
   "codemirror_mode": {
    "name": "ipython",
    "version": 3
   },
   "file_extension": ".py",
   "mimetype": "text/x-python",
   "name": "python",
   "nbconvert_exporter": "python",
   "pygments_lexer": "ipython3",
   "version": "3.9.12"
  }
 },
 "nbformat": 4,
 "nbformat_minor": 5
}
