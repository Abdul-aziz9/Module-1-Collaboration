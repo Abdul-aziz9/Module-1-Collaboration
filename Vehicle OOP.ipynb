{
 "cells": [
  {
   "cell_type": "code",
   "execution_count": 3,
   "id": "270f697c",
   "metadata": {},
   "outputs": [
    {
     "name": "stdout",
     "output_type": "stream",
     "text": [
      "Enter details for your car:\n",
      "Year: 2018\n",
      "Make: madza\n",
      "Model: 6\n",
      "Number of doors (2 or 4): 4\n",
      "Type of roof (solid or sun roof): sun roof\n",
      "\n",
      "Vehicle Information:\n",
      "Vehicle type: car\n",
      "Year: 2018\n",
      "Make: madza\n",
      "Model: 6\n",
      "Number of doors: 4\n",
      "Type of roof: sun roof\n"
     ]
    }
   ],
   "source": [
    "# Superclass Vehicle\n",
    "class Vehicle:\n",
    "    def __init__(self, vehicle_type):\n",
    "        self.vehicle_type = vehicle_type  # Vehicle type like car, truck, etc.\n",
    "\n",
    "# Subclass Automobile inherits from Vehicle\n",
    "class Automobile(Vehicle):\n",
    "    def __init__(self, year, make, model, doors, roof):\n",
    "        super().__init__(\"car\")  # Vehicle type is always 'car' for this case\n",
    "        self.year = year\n",
    "        self.make = make\n",
    "        self.model = model\n",
    "        self.doors = doors\n",
    "        self.roof = roof\n",
    "\n",
    "    # Method to display the vehicle details\n",
    "    def display_info(self):\n",
    "        print(f\"Vehicle type: {self.vehicle_type}\")\n",
    "        print(f\"Year: {self.year}\")\n",
    "        print(f\"Make: {self.make}\")\n",
    "        print(f\"Model: {self.model}\")\n",
    "        print(f\"Number of doors: {self.doors}\")\n",
    "        print(f\"Type of roof: {self.roof}\")\n",
    "\n",
    "# Main app to accept user input\n",
    "def main():\n",
    "    # Ask for user input\n",
    "    print(\"Enter details for your car:\")\n",
    "\n",
    "    year = input(\"Year: \")\n",
    "    make = input(\"Make: \")\n",
    "    model = input(\"Model: \")\n",
    "    doors = input(\"Number of doors (2 or 4): \")\n",
    "    roof = input(\"Type of roof (solid or sun roof): \")\n",
    "\n",
    "    # Convert year and doors to integer\n",
    "    year = int(year)\n",
    "    doors = int(doors)\n",
    "\n",
    "    # Create an instance of Automobile with user input\n",
    "    car = Automobile(year, make, model, doors, roof)\n",
    "\n",
    "    # Display the vehicle information\n",
    "    print(\"\\nVehicle Information:\")\n",
    "    car.display_info()\n",
    "\n",
    "if __name__ == \"__main__\":\n",
    "    main()\n"
   ]
  },
  {
   "cell_type": "code",
   "execution_count": 5,
   "id": "6c572cf8",
   "metadata": {},
   "outputs": [
    {
     "name": "stdout",
     "output_type": "stream",
     "text": [
      "Enter details for your car:\n",
      "Year: 2018\n",
      "Make: Kia\n",
      "Model: Optima\n",
      "Number of doors (2 or 4): 4\n",
      "Type of roof (solid or sun roof): solid\n",
      "\n",
      "Vehicle Information:\n",
      "Vehicle type: car\n",
      "Year: 2018\n",
      "Make: Kia\n",
      "Model: Optima\n",
      "Number of doors: 4\n",
      "Type of roof: solid\n"
     ]
    }
   ],
   "source": [
    "class Vehicle:\n",
    "    def __init__(self, vehicle_type):\n",
    "        self.vehicle_type = vehicle_type  \n",
    "\n",
    "\n",
    "class Automobile(Vehicle):\n",
    "    def __init__(self, year, make, model, doors, roof):\n",
    "        super().__init__(\"car\")  \n",
    "        self.year = year\n",
    "        self.make = make\n",
    "        self.model = model\n",
    "        self.doors = doors\n",
    "        self.roof = roof\n",
    "\n",
    "    def display_info(self):\n",
    "        print(f\"Vehicle type: {self.vehicle_type}\")\n",
    "        print(f\"Year: {self.year}\")\n",
    "        print(f\"Make: {self.make}\")\n",
    "        print(f\"Model: {self.model}\")\n",
    "        print(f\"Number of doors: {self.doors}\")\n",
    "        print(f\"Type of roof: {self.roof}\")\n",
    "\n",
    "\n",
    "print(\"Enter details for your car:\")\n",
    "\n",
    "year = input(\"Year: \")\n",
    "make = input(\"Make: \")\n",
    "model = input(\"Model: \")\n",
    "doors = input(\"Number of doors (2 or 4): \")\n",
    "roof = input(\"Type of roof (solid or sun roof): \")\n",
    "\n",
    "year = int(year)\n",
    "doors = int(doors)\n",
    "\n",
    "car = Automobile(year, make, model, doors, roof)\n",
    "\n",
    "print(\"\\nVehicle Information:\")\n",
    "car.display_info()"
   ]
  },
  {
   "cell_type": "code",
   "execution_count": null,
   "id": "11a4994e",
   "metadata": {},
   "outputs": [],
   "source": []
  }
 ],
 "metadata": {
  "kernelspec": {
   "display_name": "Python 3 (ipykernel)",
   "language": "python",
   "name": "python3"
  },
  "language_info": {
   "codemirror_mode": {
    "name": "ipython",
    "version": 3
   },
   "file_extension": ".py",
   "mimetype": "text/x-python",
   "name": "python",
   "nbconvert_exporter": "python",
   "pygments_lexer": "ipython3",
   "version": "3.9.12"
  }
 },
 "nbformat": 4,
 "nbformat_minor": 5
}
