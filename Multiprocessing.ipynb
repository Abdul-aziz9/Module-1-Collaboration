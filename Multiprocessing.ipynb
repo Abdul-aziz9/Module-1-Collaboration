{
 "cells": [
  {
   "cell_type": "code",
   "execution_count": null,
   "id": "71dd79b6",
   "metadata": {},
   "outputs": [],
   "source": [
    "from datetime import date, datetime, timedelta\n",
    "import multiprocessing\n",
    "import time\n",
    "import random\n",
    "\n",
    "\n",
    "# 13.1 Write the current date as a string to the text file today.txt\n",
    "today = date.today()\n",
    "\n",
    "with open(\"today.txt\", \"w\") as file:\n",
    "    file.write(today.strftime(\"%Y-%m-%d\"))\n",
    "\n",
    "# 13.2 Read the text file today.txt into the string today_string\n",
    "with open(\"today.txt\", \"r\") as file:\n",
    "    today_string = file.read().strip()\n",
    "\n",
    "# 13.3 Parse the date from today_string\n",
    "today_date = datetime.strptime(today_string, \"%Y-%m-%d\").date()\n",
    "print(\"Parsed Date:\", today_date)\n",
    "\n",
    "\n",
    "def print_time():\n",
    "    wait_time = random.uniform(0, 1)\n",
    "    time.sleep(wait_time)\n",
    "    print(\"Current Time:\", datetime.now().strftime(\"%H:%M:%S\"))\n",
    "\n",
    "if __name__ == \"__main__\":\n",
    "    processes = [multiprocessing.Process(target=print_time) for _ in range()]\n",
    "    for p in processes:\n",
    "        p.start()\n",
    "    for p in processes:\n",
    "        p.join()\n"
   ]
  }
 ],
 "metadata": {
  "kernelspec": {
   "display_name": "Python 3 (ipykernel)",
   "language": "python",
   "name": "python3"
  },
  "language_info": {
   "codemirror_mode": {
    "name": "ipython",
    "version": 3
   },
   "file_extension": ".py",
   "mimetype": "text/x-python",
   "name": "python",
   "nbconvert_exporter": "python",
   "pygments_lexer": "ipython3",
   "version": "3.9.12"
  }
 },
 "nbformat": 4,
 "nbformat_minor": 5
}
